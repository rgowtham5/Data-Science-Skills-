{
  "cells": [
    {
      "cell_type": "markdown",
      "metadata": {
        "id": "5i6uCJIDVB3_"
      },
      "source": [
        "## NumPy"
      ]
    },
    {
      "cell_type": "code",
      "execution_count": null,
      "metadata": {},
      "outputs": [],
      "source": [
        "#pip install numpy"
      ]
    },
    {
      "cell_type": "code",
      "execution_count": null,
      "metadata": {
        "id": "_oziGmeHVB4C"
      },
      "outputs": [],
      "source": [
        "#Importing NumPy Library\n",
        "import numpy as np"
      ]
    },
    {
      "cell_type": "markdown",
      "metadata": {
        "id": "65In3y9JVB4D"
      },
      "source": [
        "Array creation"
      ]
    },
    {
      "cell_type": "code",
      "execution_count": null,
      "metadata": {
        "id": "OBHZu6ZNVB4E"
      },
      "outputs": [],
      "source": [
        "my_list = [1, 2.23, 3, 'num1', 5, -60, 7, 8, 9, 10]\n",
        "# standard python list above\n",
        "\n",
        "array = np.array([1, 2, 3, 4, 5, 6, 7, 8, 9, 10])\n",
        "#np array\n",
        "\n",
        "print('list:',my_list)\n",
        "print('array:',array)"
      ]
    },
    {
      "cell_type": "code",
      "execution_count": null,
      "metadata": {
        "id": "6esStZ8dVB4F"
      },
      "outputs": [],
      "source": [
        "type(my_list)"
      ]
    },
    {
      "cell_type": "code",
      "execution_count": null,
      "metadata": {
        "id": "6fj88Z0bZEDo"
      },
      "outputs": [],
      "source": [
        "type(array)"
      ]
    },
    {
      "cell_type": "code",
      "execution_count": null,
      "metadata": {
        "id": "b2IooWK9VB4F"
      },
      "outputs": [],
      "source": [
        "array = np.array([1, 2, 3, 4]) \n",
        "# array is made up of numbers\n",
        "\n",
        "print(array) # prints all the data\n",
        "print(array * 2) # prints each entity in the array * 2\n",
        "print(array * array) \n",
        "# prints each entity in the array by itself\n",
        "\n",
        "# really useful when dealing with large data sets to run calculations on arrays faster and less memory than a SpreadSheet\n",
        "# faster than humans = AI"
      ]
    },
    {
      "cell_type": "code",
      "execution_count": null,
      "metadata": {
        "id": "fKMnF4tbZv8w"
      },
      "outputs": [],
      "source": [
        "list_num=[12, 34, 53, 1]\n",
        "my_array=np.array(list_num)\n",
        "print(my_array)\n",
        "print(my_array*3)"
      ]
    },
    {
      "cell_type": "markdown",
      "metadata": {
        "id": "paCJjLGDVB4G"
      },
      "source": [
        "***One-Dimensional and Two-Dimensional Arrays***"
      ]
    },
    {
      "cell_type": "code",
      "execution_count": null,
      "metadata": {
        "id": "WsnxPKHBVB4G"
      },
      "outputs": [],
      "source": [
        "# 1 dimensional array\n",
        "array1 = np.array([1, 2, 3, 4, 5])\n",
        "\n",
        "print(array1)"
      ]
    },
    {
      "cell_type": "code",
      "execution_count": null,
      "metadata": {
        "id": "QT-vJU8hVB4G"
      },
      "outputs": [],
      "source": [
        "# 2 dimensional array\n",
        "array2 = np.array([[1, 2, 3], [4, 5, 6], [7, 8, 9]])\n",
        "\n",
        "print(array2)\n",
        "\n",
        "# look at how it prints a 2d array [[]]"
      ]
    },
    {
      "cell_type": "code",
      "execution_count": null,
      "metadata": {
        "id": "WzZIwC1lbX4E"
      },
      "outputs": [],
      "source": [
        "age=[3,4,5,5,89,90,86,99]\n",
        "my_array=np.array(age)\n",
        "print('1D:',my_array)"
      ]
    },
    {
      "cell_type": "code",
      "execution_count": null,
      "metadata": {
        "id": "ogX7NJOibooX"
      },
      "outputs": [],
      "source": [
        "age=[3,4,5,5,89]\n",
        "height=[167, 200, 175, 160, 155]\n",
        "my_array=np.array([age, height])\n",
        "print('2D:',my_array)"
      ]
    },
    {
      "cell_type": "code",
      "execution_count": null,
      "metadata": {
        "id": "DzBKlkSXe_ij"
      },
      "outputs": [],
      "source": [
        "my_array[1,1]"
      ]
    },
    {
      "cell_type": "code",
      "execution_count": null,
      "metadata": {
        "id": "wjfJZTiHcNov"
      },
      "outputs": [],
      "source": [
        "my_array*2"
      ]
    },
    {
      "cell_type": "code",
      "execution_count": null,
      "metadata": {
        "id": "J9vTwR9-cabP"
      },
      "outputs": [],
      "source": [
        "my_array*2.5"
      ]
    },
    {
      "cell_type": "markdown",
      "metadata": {
        "id": "BQEQrJimVB4H"
      },
      "source": [
        "Student Task: Array"
      ]
    },
    {
      "cell_type": "markdown",
      "metadata": {
        "id": "R9e3aZLmVB4H"
      },
      "source": [
        "Indexing "
      ]
    },
    {
      "cell_type": "code",
      "execution_count": null,
      "metadata": {
        "id": "s5RIcK-uckoL"
      },
      "outputs": [],
      "source": [
        "list_fruit=['apple', 'banana', 'cherry']\n",
        "list_fruit[0]"
      ]
    },
    {
      "cell_type": "code",
      "execution_count": null,
      "metadata": {
        "id": "53sJY3cMVB4H"
      },
      "outputs": [],
      "source": [
        "#Retrievng the seceond element from the array\n",
        "arr = np.array([1, 2, 3, 4])\n",
        "\n",
        "print(arr[0:2])\n",
        "print(arr[0])"
      ]
    },
    {
      "cell_type": "code",
      "execution_count": null,
      "metadata": {
        "id": "hIf1pOUTVB4H"
      },
      "outputs": [],
      "source": [
        "# We can even add the elements together\n",
        "arr = np.array([1, 2, 3, 4])\n",
        "\n",
        "print(arr[0] + arr[3])\n"
      ]
    },
    {
      "cell_type": "markdown",
      "metadata": {
        "id": "KvOylIgpVB4I"
      },
      "source": [
        "Slicing"
      ]
    },
    {
      "cell_type": "code",
      "execution_count": null,
      "metadata": {
        "id": "1a5TQu1uVB4I"
      },
      "outputs": [],
      "source": [
        "array = np.array([1, 2, 3, 4, 5, 6, 7])\n",
        "\n",
        "print(array[1:5]) \n",
        "# slices data from index 1 to 4  - 0 indexed and discounts final number"
      ]
    },
    {
      "cell_type": "code",
      "execution_count": null,
      "metadata": {
        "id": "aEOW0t3bVB4I"
      },
      "outputs": [],
      "source": [
        "array2 = np.array([1, 2, 3, 4, 5, 6, 7])\n",
        "\n",
        "print(array2[:4])  \n",
        "# slices unitl index/position 4"
      ]
    },
    {
      "cell_type": "code",
      "execution_count": null,
      "metadata": {
        "id": "hqz9AVLhVB4I"
      },
      "outputs": [],
      "source": [
        "slice1 = np.array([1,2,3,4,5,6,7,8]) \n",
        "# slices from 1 to 8 in increments of 2\n",
        "print(slice1[1:4:2])"
      ]
    },
    {
      "cell_type": "markdown",
      "metadata": {
        "id": "qoD_uFUqVB4I"
      },
      "source": [
        "NP Zerpos"
      ]
    },
    {
      "cell_type": "code",
      "execution_count": null,
      "metadata": {
        "id": "3YOnTzojVB4I"
      },
      "outputs": [],
      "source": [
        "zeros = np.zeros(10)  # single list/vector\n",
        "\n",
        "print (zeros)"
      ]
    },
    {
      "cell_type": "code",
      "execution_count": null,
      "metadata": {
        "id": "5ykzeA_qVB4J"
      },
      "outputs": [],
      "source": [
        "zeros1 = np.zeros((4, 4)) # 4 by 4 matrix \n",
        "\n",
        "print(zeros1)"
      ]
    },
    {
      "cell_type": "markdown",
      "metadata": {
        "id": "8m0TJSp9VB4J"
      },
      "source": [
        "NP Ones"
      ]
    },
    {
      "cell_type": "code",
      "execution_count": null,
      "metadata": {
        "id": "JdKvPJoRVB4J"
      },
      "outputs": [],
      "source": [
        "ones = np.ones(8)  # single list/vector\n",
        "\n",
        "print (ones)"
      ]
    },
    {
      "cell_type": "code",
      "execution_count": null,
      "metadata": {
        "id": "ArS4TKjSVB4J"
      },
      "outputs": [],
      "source": [
        "matrix = np.ones((3, 3)) # 3 by 3 matrix \n",
        "\n",
        "print(matrix)"
      ]
    },
    {
      "cell_type": "markdown",
      "metadata": {
        "id": "QtJcCEQlVB4K"
      },
      "source": [
        "NP Random Array"
      ]
    },
    {
      "cell_type": "code",
      "execution_count": null,
      "metadata": {
        "id": "fxYfjXcYVB4K"
      },
      "outputs": [],
      "source": [
        "random = np.random.rand(6,5) #rows, columns\n",
        "\n",
        "print (random)\n"
      ]
    },
    {
      "cell_type": "markdown",
      "metadata": {
        "id": "pshQ3wpOVB4K"
      },
      "source": [
        "Arange"
      ]
    },
    {
      "cell_type": "code",
      "execution_count": null,
      "metadata": {
        "id": "F5lMVWVLVB4K"
      },
      "outputs": [],
      "source": [
        "x = np.arange(10)\n",
        "\n",
        "print(x) # evenly spaced array "
      ]
    },
    {
      "cell_type": "code",
      "execution_count": null,
      "metadata": {
        "id": "ehtx6dljVB4K"
      },
      "outputs": [],
      "source": [
        "# 3rd argument to add step\n",
        "array2 = np.arange(0, 15, 2)\n",
        "\n",
        "print(array2)"
      ]
    },
    {
      "cell_type": "markdown",
      "metadata": {
        "id": "ivqcq2mXVB4K"
      },
      "source": [
        "Shape & Reshape "
      ]
    },
    {
      "cell_type": "code",
      "execution_count": null,
      "metadata": {
        "id": "NIAOnd_7VB4K"
      },
      "outputs": [],
      "source": [
        "#Returns shape of array\n",
        "arr = np.array([[1, 2, 3, 4], [5, 6, 7, 8]])\n",
        "\n",
        "print(arr.shape) #attribue shape gives the number of rows and columns in a 2d array"
      ]
    },
    {
      "cell_type": "code",
      "execution_count": null,
      "metadata": {
        "id": "80Dvuil-VB4L"
      },
      "outputs": [],
      "source": [
        "# 1D to 2D\n",
        "array = np.array([1, 2, 3, 4, 5, 6, 7, 8, 9, 10, 11, 12])\n",
        "\n",
        "newArray = array.reshape(4, 3) \n",
        "# rows then columns when creating the matrix\n",
        "\n",
        "print(newArray)"
      ]
    },
    {
      "cell_type": "code",
      "execution_count": null,
      "metadata": {
        "id": "JUUDlxGFicpH"
      },
      "outputs": [],
      "source": [
        "#1d array:\n",
        "array1d=np.array([12, 21, 24, 8, 89, 12, 23, 43])\n",
        "\n",
        "#to make it 2d use the reshape() function:\n",
        "array1d.reshape(2,4) #row, columns"
      ]
    },
    {
      "cell_type": "code",
      "execution_count": null,
      "metadata": {
        "id": "nJWotiaIVB4L"
      },
      "outputs": [],
      "source": [
        "# 1D array to 3D array\n",
        "array1 = np.array([2, 4, 6, 8, 10, 12, 14, 16, 18, 20, 22, 24])\n",
        "\n",
        "newArray1 = array1.reshape(2, 3, 2) \n",
        "# 2 matrices, 3 rows and 2 columns. \n",
        "#Must use this order\n",
        "\n",
        "print(newArray1)"
      ]
    },
    {
      "cell_type": "markdown",
      "metadata": {
        "id": "hdM6hCfyVB4L"
      },
      "source": [
        "Split arrays"
      ]
    },
    {
      "cell_type": "code",
      "execution_count": null,
      "metadata": {
        "id": "6UOmI45NVB4L"
      },
      "outputs": [],
      "source": [
        "arr = np.array([1, 2, 3, 4, 5, 6])\n",
        "newarr = np.array_split(arr, 3)\n",
        "print(newarr)"
      ]
    },
    {
      "cell_type": "code",
      "execution_count": null,
      "metadata": {
        "id": "5Y2j5_eEVB4L"
      },
      "outputs": [],
      "source": [
        "# If the array has less elements than required, it will adjust from the end accordingly.\n",
        "arr = np.array([1, 2, 3, 4, 5, 6])\n",
        "newarr = np.array_split(arr, 4)\n",
        "print(newarr)"
      ]
    },
    {
      "cell_type": "markdown",
      "metadata": {
        "id": "a8UkV493VB4M"
      },
      "source": [
        "Join arrays"
      ]
    },
    {
      "cell_type": "code",
      "execution_count": null,
      "metadata": {
        "id": "YR-XohmIVB4M"
      },
      "outputs": [],
      "source": [
        "arr1 = np.array([1, 2, 3])\n",
        "arr2 = np.array([4, 5, 6])\n",
        "arr = np.concatenate((arr1, arr2))\n",
        "\n",
        "print(arr)"
      ]
    },
    {
      "cell_type": "markdown",
      "metadata": {
        "id": "ApDrzU0GVB4M"
      },
      "source": [
        "Search Arrays"
      ]
    },
    {
      "cell_type": "code",
      "execution_count": null,
      "metadata": {
        "id": "_6ZyEBPAVB4M"
      },
      "outputs": [],
      "source": [
        "arr = np.array([1, 2, 3, 4, 5, 4, 4])\n",
        "x = np.where(arr == 4)\n",
        "print(x)\n",
        "#the value 4 is present at index 3, 5, and 6"
      ]
    },
    {
      "cell_type": "code",
      "execution_count": null,
      "metadata": {
        "id": "LSuyYt4mVB4M"
      },
      "outputs": [],
      "source": [
        "#search where the values are even\n",
        "arr = np.array([1, 2, 3, 4, 5, 6, 7, 8])\n",
        "x = np.where(arr%2 == 0) #Find the indexes where the values are even is the number devisiable by 2 and print odd numbers\n",
        "print(x)\n",
        "print(arr[x])"
      ]
    },
    {
      "cell_type": "code",
      "execution_count": null,
      "metadata": {
        "id": "tD0lWyrIVB4M"
      },
      "outputs": [],
      "source": [
        "#seach where the values are odd\n",
        "arr = np.array([1, 2, 3, 4, 5, 6, 7, 8])\n",
        "x = np.where(arr%2 == 1)#Find the indexes where the values are odd is the number devisiable by 2 and print even numbers\n",
        "\n",
        "print(x)\n",
        "print(arr[x])"
      ]
    },
    {
      "cell_type": "markdown",
      "metadata": {
        "id": "n7zk9lwNVB4M"
      },
      "source": [
        "Sorting Arrays"
      ]
    },
    {
      "cell_type": "code",
      "execution_count": null,
      "metadata": {
        "id": "qrMPvtgZVB4M"
      },
      "outputs": [],
      "source": [
        "#Sorting by numbers\n",
        "arr = np.array([3, 2, 0, 1])\n",
        "print(np.sort(arr))"
      ]
    },
    {
      "cell_type": "code",
      "execution_count": null,
      "metadata": {
        "id": "ayw3MzbpVB4N"
      },
      "outputs": [],
      "source": [
        "#sorting alphabetically \n",
        "arr = np.array(['blue', 'yellow', 'red'])\n",
        "print(np.sort(arr))"
      ]
    },
    {
      "cell_type": "markdown",
      "metadata": {
        "id": "oR2sqDZPVB4N"
      },
      "source": [
        "Mathematics"
      ]
    },
    {
      "cell_type": "code",
      "execution_count": null,
      "metadata": {
        "id": "ZNUMifp7VB4N"
      },
      "outputs": [],
      "source": [
        "array = np.arange(0,5)\n",
        "\n",
        "print(array)\n",
        "\n",
        "print(\"Subtract :\",array - 10)\n",
        "print(\"Multiply :\", array * 10)\n",
        "print(\"Divide :\", array / 10)\n",
        "print(\"Power :\", array ** 2)"
      ]
    },
    {
      "cell_type": "markdown",
      "metadata": {
        "id": "R4piA12qVB4N"
      },
      "source": [
        "NP Dot"
      ]
    },
    {
      "cell_type": "code",
      "execution_count": null,
      "metadata": {
        "id": "NcvcrAIsVB4N"
      },
      "outputs": [],
      "source": [
        "#Matrix multiplication\n",
        "a = np.arange(1,10).reshape(3,3)\n",
        "b = np.arange(10,19).reshape(3,3)\n",
        "c = np.dot(a, b)\n",
        "print('a',a)\n",
        "print('b',b)\n",
        "print('c:',c)"
      ]
    },
    {
      "cell_type": "code",
      "execution_count": null,
      "metadata": {
        "id": "tPaOqnrDpQci"
      },
      "outputs": [],
      "source": [
        "np.dot(a, 2)"
      ]
    },
    {
      "cell_type": "code",
      "execution_count": null,
      "metadata": {
        "id": "IBlC4cGNVB4N"
      },
      "outputs": [],
      "source": [
        "#Matrix multiplication using matmul\n",
        "d=np.matmul(a,b)\n",
        "print(d)"
      ]
    },
    {
      "cell_type": "code",
      "execution_count": null,
      "metadata": {
        "id": "_qimJgpEpaLS"
      },
      "outputs": [],
      "source": [
        "np.matmul(a,2)"
      ]
    },
    {
      "cell_type": "code",
      "execution_count": null,
      "metadata": {
        "id": "BzUNqqHtplUD"
      },
      "outputs": [],
      "source": [
        "np.matmul(b,a)"
      ]
    },
    {
      "cell_type": "code",
      "execution_count": null,
      "metadata": {
        "id": "GLoy4tqnVB4N"
      },
      "outputs": [],
      "source": [
        "#Columns of first matrix need to be equal to the rows of the second matrix\n",
        "#This is an example of linear algebra!\n",
        "a = np.arange(1,7).reshape(3,2)\n",
        "b = np.arange(7,13).reshape(2,3)\n",
        "np.matmul(a,b)"
      ]
    },
    {
      "cell_type": "markdown",
      "metadata": {
        "id": "wAjw3hvPVB4N"
      },
      "source": [
        "NP Sum"
      ]
    },
    {
      "cell_type": "code",
      "execution_count": null,
      "metadata": {
        "id": "nj3wlk9nVB4O"
      },
      "outputs": [],
      "source": [
        "a = np.arange(1,10).reshape(3,3)\n",
        "b = np.arange(10,19).reshape(3,3)\n",
        "c = np.dot(a, b)\n",
        "print(c)\n",
        "\n",
        "total_sum = np.sum(c)\n",
        "print(total_sum)\n"
      ]
    },
    {
      "cell_type": "code",
      "execution_count": null,
      "metadata": {
        "id": "1QNoFMVDVB4O"
      },
      "outputs": [],
      "source": [
        "# you can use np.sum on any matrix.\n",
        "print(a)\n",
        "sum1 = np.sum(a)\n",
        "print(sum1)"
      ]
    },
    {
      "cell_type": "code",
      "execution_count": null,
      "metadata": {
        "id": "Y5deLVIyVB4O"
      },
      "outputs": [],
      "source": [
        "#by column\n",
        "a = np.arange(1,10).reshape(3,3)\n",
        "b = np.arange(10,19).reshape(3,3)\n",
        "c = np.dot(a, b)\n",
        "\n",
        "print(c)\n",
        "\n",
        "e = np.sum(c, axis = 0)\n",
        "\n",
        "print(e)"
      ]
    },
    {
      "cell_type": "code",
      "execution_count": null,
      "metadata": {
        "id": "8V1ArsqDVB4O"
      },
      "outputs": [],
      "source": [
        "#by row\n",
        "a = np.arange(1,10).reshape(3,3)\n",
        "b = np.arange(10,19).reshape(3,3)\n",
        "c = np.dot(a, b)\n",
        "\n",
        "print(c)\n",
        "\n",
        "e = np.sum(c,axis = 1)\n",
        "\n",
        "print(e)"
      ]
    },
    {
      "cell_type": "markdown",
      "metadata": {
        "id": "oertAinuVB4O"
      },
      "source": [
        "Mean, Median & Mode"
      ]
    },
    {
      "cell_type": "code",
      "execution_count": null,
      "metadata": {
        "id": "tMVEiE8MVB4O"
      },
      "outputs": [],
      "source": [
        "#Mean\n",
        "height = [99,86,87,88,111,86,103,87,94,78,77,85,86]\n",
        "\n",
        "x = np.mean(height)\n",
        "\n",
        "print(x)"
      ]
    },
    {
      "cell_type": "code",
      "execution_count": null,
      "metadata": {
        "id": "2WrMCNq1VB4O"
      },
      "outputs": [],
      "source": [
        "#Median\n",
        "height = [99,86,87,88,111,86,103,87,94,78,77,85,86]\n",
        "\n",
        "x = np.median(height)\n",
        "\n",
        "print(x)"
      ]
    },
    {
      "cell_type": "code",
      "execution_count": null,
      "metadata": {
        "id": "vqXaeyYMVB4O"
      },
      "outputs": [],
      "source": [
        "#Mode - NumPy has no attribute called Mode we need to use the Scipy Libray\n",
        "from scipy import stats as st\n",
        "\n",
        "height = [99,86,87,88,111,86,103,87,94,78,77,85,86]\n",
        "\n",
        "x = st.mode(height)\n",
        "\n",
        "print(x)"
      ]
    },
    {
      "cell_type": "code",
      "execution_count": null,
      "metadata": {
        "id": "Suqm24y8VB4P"
      },
      "outputs": [],
      "source": [
        "height = [86,87,88,86,87,85,86]\n",
        "\n",
        "x = np.std(height)\n",
        "y = np.mean(height)\n",
        "\n",
        "print (\"The STD is:\", x)\n",
        "print(\"The mean is:\", y)"
      ]
    },
    {
      "cell_type": "code",
      "execution_count": null,
      "metadata": {
        "id": "9774m-8YVB4P"
      },
      "outputs": [],
      "source": [
        "\n",
        "import numpy as np\n",
        "import matplotlib.pyplot as plt\n",
        "from scipy.stats import norm"
      ]
    },
    {
      "cell_type": "code",
      "execution_count": null,
      "metadata": {
        "id": "x2kh7njAkbdk"
      },
      "outputs": [],
      "source": [
        "\n",
        "# Draw random samples from standard normal distribution\n",
        "#\n",
        "x = np.random.randn(100)\n",
        "#\n",
        "# Plot probability distribution function\n",
        "#\n",
        "x_sorted = np.sort(x)\n",
        "plt.figure(figsize=(7, 5))\n",
        "plt.plot(x_sorted, norm.pdf(x_sorted))\n",
        "plt.title(\"Normal distribution\", fontsize=16)"
      ]
    }
  ],
  "metadata": {
    "colab": {
      "provenance": []
    },
    "kernelspec": {
      "display_name": "Python 3",
      "language": "python",
      "name": "python3"
    },
    "language_info": {
      "codemirror_mode": {
        "name": "ipython",
        "version": 3
      },
      "file_extension": ".py",
      "mimetype": "text/x-python",
      "name": "python",
      "nbconvert_exporter": "python",
      "pygments_lexer": "ipython3",
      "version": "3.10.9"
    },
    "orig_nbformat": 4,
    "vscode": {
      "interpreter": {
        "hash": "cc2a200e1e6dab10c4dc3986f0e7a998296447c993c26561a1bd050a849d8214"
      }
    }
  },
  "nbformat": 4,
  "nbformat_minor": 0
}
