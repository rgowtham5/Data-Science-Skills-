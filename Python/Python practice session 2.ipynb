{
 "cells": [
  {
   "cell_type": "markdown",
   "metadata": {},
   "source": [
    "### Comparison Operators <br>\n",
    "<br>\n",
    "\n",
    "== : value 1's content is the same as the comparrison <br>\n",
    "\\!= : value 1's content is not the same as the comparrison <br>\n",
    "<  : Less than <br>\n",
    "\\>  : Greater than <br>\n",
    "<=  : Less than or equals to<br>\n",
    "\\>=  : Greater than or equals to <br>"
   ]
  },
  {
   "cell_type": "code",
   "execution_count": null,
   "metadata": {},
   "outputs": [],
   "source": [
    "x = 5\n",
    "y = 3\n",
    "\n",
    "print(x == y)\n",
    "print(x != y)\n",
    "print(x > y)\n",
    "print(x < y)\n",
    "print(x >= y)\n",
    "print(x <= y)"
   ]
  },
  {
   "cell_type": "markdown",
   "metadata": {},
   "source": [
    "## Logical Operators"
   ]
  },
  {
   "cell_type": "code",
   "execution_count": null,
   "metadata": {},
   "outputs": [],
   "source": [
    "x = 5\n",
    "y = 3"
   ]
  },
  {
   "cell_type": "code",
   "execution_count": null,
   "metadata": {},
   "outputs": [],
   "source": [
    "#Returns True if both statements are true\n",
    "x <5 and x <10"
   ]
  },
  {
   "cell_type": "code",
   "execution_count": null,
   "metadata": {},
   "outputs": [],
   "source": [
    "#Returns True if one of the statements is true\n",
    "x <=5 or x <4"
   ]
  },
  {
   "cell_type": "code",
   "execution_count": null,
   "metadata": {},
   "outputs": [],
   "source": [
    "#Reverses the result and will return False is the result is not true\n",
    "not(x <5 and x < 10)"
   ]
  },
  {
   "cell_type": "markdown",
   "metadata": {},
   "source": [
    "## IF....Else"
   ]
  },
  {
   "cell_type": "code",
   "execution_count": null,
   "metadata": {},
   "outputs": [],
   "source": [
    "#If Else example\n",
    "mark = int(input(\"Enter mark: \"))\n",
    "\n",
    "if mark > 65:\n",
    "    print(\"Pass\")\n",
    "else:\n",
    "    print(\"Fail\")\n",
    "\n"
   ]
  },
  {
   "cell_type": "code",
   "execution_count": null,
   "metadata": {},
   "outputs": [],
   "source": []
  },
  {
   "cell_type": "code",
   "execution_count": null,
   "metadata": {},
   "outputs": [],
   "source": [
    "mark = int(input(\"Enter mark: \"))\n",
    "\n",
    "if mark > 75:\n",
    "    print(\"Merit\")\n",
    "elif mark > 65:\n",
    "    print(\"Pass\")\n",
    "else:\n",
    "    print(\"Fail\")\n"
   ]
  },
  {
   "cell_type": "code",
   "execution_count": null,
   "metadata": {},
   "outputs": [],
   "source": [
    "user_name = \"Georgina\"\n",
    "UserName = \"Craig\"\n",
    "username = \"Satinder\"\n"
   ]
  },
  {
   "cell_type": "code",
   "execution_count": null,
   "metadata": {},
   "outputs": [],
   "source": [
    "if user_name == \"Donna\":\n",
    "    print(\"Donna is your trainer.\")\n",
    "elif user_name == \"Suzannah\":\n",
    "    print(\"Suzannah is your trainer.\")\n",
    "else:\n",
    "    print(user_name, \"is your trainer.\")\n"
   ]
  },
  {
   "cell_type": "code",
   "execution_count": null,
   "metadata": {},
   "outputs": [],
   "source": [
    "#Nested If Example\n",
    "examlevel = int(input(\"Enter exam level: \"))\n",
    "\n",
    "if examlevel == 3:\n",
    "    mark = int(input(\"Enter level 3 mark: \"))\n",
    "    if mark > 65: # secondary condition of exam level 3\n",
    "        print(\"Pass\")\n",
    "    else:\n",
    "        print(\"Fail\")     \n",
    "        \n",
    "elif examlevel == 4:\n",
    "    mark = int(input(\"Enter level 4 mark: \"))\n",
    "    if mark > 50:\n",
    "        print(\"Pass\")\n",
    "    else:\n",
    "        print(\"Fail\")\n",
    "else:\n",
    "    print(\"Invalid Level\")\n",
    "        \n"
   ]
  },
  {
   "cell_type": "code",
   "execution_count": null,
   "metadata": {},
   "outputs": [],
   "source": [
    "#IF with multile conditions example\n",
    "print(\"Menu:\")\n",
    "print(\"1 - Level 1\")\n",
    "print(\"2 - Level 2\")\n",
    "print(\"3 - Level 3\")\n",
    "print(\"4 - Level 4\")\n",
    "\n",
    "examlevel = int(input(\"Enter exam level: \"))"
   ]
  },
  {
   "cell_type": "code",
   "execution_count": null,
   "metadata": {},
   "outputs": [],
   "source": [
    "if examlevel == 1 or examlevel == 2:\n",
    "    mark = int(input(\"Enter Level 1 or 2 mark: \"))\n",
    "    if mark > 75:\n",
    "        print(\"Pass\")\n",
    "    else:\n",
    "        print(\"Fail\")             \n",
    "elif examlevel == 3 or examlevel == 4:\n",
    "    mark = int(input(\"Enter Level 3 or 4 mark: \"))\n",
    "    if examlevel == 3 and mark > 65:\n",
    "        print(\"Pass\")\n",
    "    elif examlevel == 4 and mark > 50:\n",
    "        print(\"Pass\")\n",
    "    else:\n",
    "        print(\"Fail\")   \n",
    "else:\n",
    "    print(\"Invalid Level\")\n"
   ]
  },
  {
   "cell_type": "markdown",
   "metadata": {},
   "source": [
    "## Lists"
   ]
  },
  {
   "cell_type": "code",
   "execution_count": 30,
   "metadata": {},
   "outputs": [
    {
     "name": "stdout",
     "output_type": "stream",
     "text": [
      "Milkshake\n"
     ]
    }
   ],
   "source": [
    "\"\"\" \n",
    "It can be useful for a variable to refer to a collection of data. \n",
    "Lists refer to multiple values, which are all contained and accessible through a single variable\n",
    "\n",
    "\"\"\"\n",
    "\n",
    "farm_cows = [\"Winnie the Moo\", \"Dasiy\", \"Milkshake\", \"Buttercup\"]\n",
    "\n",
    "print(farm_cows[2])"
   ]
  },
  {
   "cell_type": "markdown",
   "metadata": {},
   "source": [
    "## List Methods"
   ]
  },
  {
   "cell_type": "code",
   "execution_count": 31,
   "metadata": {},
   "outputs": [
    {
     "ename": "ValueError",
     "evalue": "list.remove(x): x not in list",
     "output_type": "error",
     "traceback": [
      "\u001b[1;31m---------------------------------------------------------------------------\u001b[0m",
      "\u001b[1;31mValueError\u001b[0m                                Traceback (most recent call last)",
      "\u001b[1;32mc:\\Users\\GeorginaStanley\\OneDrive - TechTalent Academy\\Academy Training Team\\2. Resources\\Data Academy\\Use Part Time DA\\6. Python 2\\Python practice session 2.ipynb Cell 20\u001b[0m in \u001b[0;36m<cell line: 2>\u001b[1;34m()\u001b[0m\n\u001b[0;32m      <a href='vscode-notebook-cell:/c%3A/Users/GeorginaStanley/OneDrive%20-%20TechTalent%20Academy/Academy%20Training%20Team/2.%20Resources/Data%20Academy/Use%20Part%20Time%20DA/6.%20Python%202/Python%20practice%20session%202.ipynb#X23sZmlsZQ%3D%3D?line=0'>1</a>\u001b[0m farm_cows \u001b[39m=\u001b[39m [\u001b[39m\"\u001b[39m\u001b[39mWinnie the Moo\u001b[39m\u001b[39m\"\u001b[39m, \u001b[39m\"\u001b[39m\u001b[39mDasiy\u001b[39m\u001b[39m\"\u001b[39m, \u001b[39m\"\u001b[39m\u001b[39mMilkshake\u001b[39m\u001b[39m\"\u001b[39m, \u001b[39m\"\u001b[39m\u001b[39mButtercup\u001b[39m\u001b[39m\"\u001b[39m]\n\u001b[1;32m----> <a href='vscode-notebook-cell:/c%3A/Users/GeorginaStanley/OneDrive%20-%20TechTalent%20Academy/Academy%20Training%20Team/2.%20Resources/Data%20Academy/Use%20Part%20Time%20DA/6.%20Python%202/Python%20practice%20session%202.ipynb#X23sZmlsZQ%3D%3D?line=1'>2</a>\u001b[0m farm_cows\u001b[39m.\u001b[39;49mremove(\u001b[39m1\u001b[39;49m)\n\u001b[0;32m      <a href='vscode-notebook-cell:/c%3A/Users/GeorginaStanley/OneDrive%20-%20TechTalent%20Academy/Academy%20Training%20Team/2.%20Resources/Data%20Academy/Use%20Part%20Time%20DA/6.%20Python%202/Python%20practice%20session%202.ipynb#X23sZmlsZQ%3D%3D?line=2'>3</a>\u001b[0m \u001b[39mprint\u001b[39m(farm_cows)\n",
      "\u001b[1;31mValueError\u001b[0m: list.remove(x): x not in list"
     ]
    }
   ],
   "source": [
    "farm_cows = [\"Winnie the Moo\", \"Dasiy\", \"Milkshake\", \"Buttercup\"]\n",
    "farm_cows.pop(1)\n",
    "print(farm_cows)"
   ]
  },
  {
   "cell_type": "code",
   "execution_count": 32,
   "metadata": {},
   "outputs": [
    {
     "data": {
      "text/plain": [
       "4"
      ]
     },
     "execution_count": 32,
     "metadata": {},
     "output_type": "execute_result"
    }
   ],
   "source": [
    "len(farm_cows)"
   ]
  },
  {
   "cell_type": "code",
   "execution_count": 33,
   "metadata": {},
   "outputs": [
    {
     "name": "stdout",
     "output_type": "stream",
     "text": [
      "['Winnie the Moo', 'Dasiy', 'Milkshake', 'Buttercup', 'Steve']\n"
     ]
    }
   ],
   "source": [
    "farm_cows.append(\"Steve\")\n",
    "print(farm_cows)"
   ]
  },
  {
   "cell_type": "code",
   "execution_count": 34,
   "metadata": {},
   "outputs": [
    {
     "name": "stdout",
     "output_type": "stream",
     "text": [
      "['Buttercup', 'Dasiy', 'Milkshake', 'Steve', 'Winnie the Moo']\n"
     ]
    }
   ],
   "source": [
    "farm_cows.sort()\n",
    "print(farm_cows)"
   ]
  },
  {
   "cell_type": "markdown",
   "metadata": {},
   "source": [
    "## List Subset"
   ]
  },
  {
   "cell_type": "code",
   "execution_count": 35,
   "metadata": {},
   "outputs": [
    {
     "name": "stdout",
     "output_type": "stream",
     "text": [
      "Milkshake\n",
      "['Dasiy', 'Milkshake']\n",
      "['Dasiy', 'Milkshake', 'Buttercup']\n",
      "['Winnie the Moo', 'Dasiy', 'Milkshake']\n"
     ]
    }
   ],
   "source": [
    "# A subsection of a list can be taken using the square brackets:\n",
    "\n",
    "farm_cows = [\"Winnie the Moo\", \"Dasiy\", \"Milkshake\", \"Buttercup\"]\n",
    "print(farm_cows[2])\n",
    "print(farm_cows[1:3])\n",
    "print(farm_cows[1:])\n",
    "print(farm_cows[:3])"
   ]
  },
  {
   "cell_type": "markdown",
   "metadata": {},
   "source": [
    "## Multidimensional Lists"
   ]
  },
  {
   "cell_type": "code",
   "execution_count": 36,
   "metadata": {},
   "outputs": [
    {
     "name": "stdout",
     "output_type": "stream",
     "text": [
      "Hamlet\n",
      "Buttercup\n"
     ]
    }
   ],
   "source": [
    "\"\"\"\"\n",
    "A single list is useful for interacting with a row of data.\n",
    "A multi dimensional list (a list made up of lists) is useful for interacting with a table of data\n",
    "\n",
    "\"\"\"\n",
    "\n",
    "farm_cows = [\"Winnie the Moo\", \"Dasiy\", \"Milkshake\", \"Buttercup\"]\n",
    "farm_sheep = [\"Baart\", \"Barbara\"]\n",
    "farm_pigs = [\"Bacon\", \"Hamlet\", \"Hog\"]\n",
    "\n",
    "farm_animals = [farm_cows, farm_sheep, farm_pigs]\n",
    "\n",
    "print(farm_animals [2] [1])\n",
    "print(farm_animals [0] [3])"
   ]
  },
  {
   "cell_type": "markdown",
   "metadata": {},
   "source": [
    "## Loosely Typed Lists"
   ]
  },
  {
   "cell_type": "code",
   "execution_count": 37,
   "metadata": {},
   "outputs": [
    {
     "name": "stdout",
     "output_type": "stream",
     "text": [
      "Snow Hill Farm\n",
      "['Winnie the Moo', 'Daisy']\n",
      "1991\n"
     ]
    }
   ],
   "source": [
    "# A list of items can contain any data types, it can be a list that contains lists, strings, numbers etc.\n",
    "\n",
    "farm = [\"Snow Hill Farm\", [\"Winnie the Moo\", \"Daisy\"], 1991]\n",
    "#         string               List                     Int\n",
    "\n",
    "print(farm[0])\n",
    "print(farm[1])\n",
    "print(farm[2])"
   ]
  },
  {
   "cell_type": "markdown",
   "metadata": {},
   "source": [
    "## Tuples"
   ]
  },
  {
   "cell_type": "code",
   "execution_count": 39,
   "metadata": {},
   "outputs": [],
   "source": [
    "\"\"\"\"\n",
    "\n",
    "A tuple is a read-only sequence of items separated by commas and enclosed within parentheses.\n",
    "Tuples cannot be changed once they have been created.\n",
    "\n",
    "\"\"\"\n",
    "\n",
    "cat_list = [\"Buttons\", 23, 4.0]\n",
    "cat_tuple = (\"Mr Socks\", 23, 4.0)"
   ]
  },
  {
   "cell_type": "code",
   "execution_count": 40,
   "metadata": {},
   "outputs": [
    {
     "name": "stdout",
     "output_type": "stream",
     "text": [
      "['Tigger', 23, 4.0]\n"
     ]
    }
   ],
   "source": [
    "# name change\n",
    "cat_list[0] = \"Tigger\"\n",
    "print(cat_list)"
   ]
  },
  {
   "cell_type": "code",
   "execution_count": 41,
   "metadata": {},
   "outputs": [
    {
     "ename": "TypeError",
     "evalue": "'tuple' object does not support item assignment",
     "output_type": "error",
     "traceback": [
      "\u001b[1;31m---------------------------------------------------------------------------\u001b[0m",
      "\u001b[1;31mTypeError\u001b[0m                                 Traceback (most recent call last)",
      "\u001b[1;32mc:\\Users\\GeorginaStanley\\OneDrive - TechTalent Academy\\Academy Training Team\\2. Resources\\Data Academy\\Use Part Time DA\\6. Python 2\\Python practice session 2.ipynb Cell 33\u001b[0m in \u001b[0;36m<cell line: 2>\u001b[1;34m()\u001b[0m\n\u001b[0;32m      <a href='vscode-notebook-cell:/c%3A/Users/GeorginaStanley/OneDrive%20-%20TechTalent%20Academy/Academy%20Training%20Team/2.%20Resources/Data%20Academy/Use%20Part%20Time%20DA/6.%20Python%202/Python%20practice%20session%202.ipynb#X42sZmlsZQ%3D%3D?line=0'>1</a>\u001b[0m \u001b[39m# name cannot be changed\u001b[39;00m\n\u001b[1;32m----> <a href='vscode-notebook-cell:/c%3A/Users/GeorginaStanley/OneDrive%20-%20TechTalent%20Academy/Academy%20Training%20Team/2.%20Resources/Data%20Academy/Use%20Part%20Time%20DA/6.%20Python%202/Python%20practice%20session%202.ipynb#X42sZmlsZQ%3D%3D?line=1'>2</a>\u001b[0m cat_tuple[\u001b[39m0\u001b[39;49m] \u001b[39m=\u001b[39m \u001b[39m\"\u001b[39m\u001b[39mTwiglet\u001b[39m\u001b[39m\"\u001b[39m\n\u001b[0;32m      <a href='vscode-notebook-cell:/c%3A/Users/GeorginaStanley/OneDrive%20-%20TechTalent%20Academy/Academy%20Training%20Team/2.%20Resources/Data%20Academy/Use%20Part%20Time%20DA/6.%20Python%202/Python%20practice%20session%202.ipynb#X42sZmlsZQ%3D%3D?line=2'>3</a>\u001b[0m \u001b[39mprint\u001b[39m(cat_tuple)\n",
      "\u001b[1;31mTypeError\u001b[0m: 'tuple' object does not support item assignment"
     ]
    }
   ],
   "source": [
    "# name cannot be changed\n",
    "cat_tuple[0] = \"Twiglet\"\n",
    "print(cat_tuple)"
   ]
  },
  {
   "cell_type": "markdown",
   "metadata": {},
   "source": [
    "## Sets"
   ]
  },
  {
   "cell_type": "code",
   "execution_count": 45,
   "metadata": {},
   "outputs": [
    {
     "ename": "TypeError",
     "evalue": "'set' object is not subscriptable",
     "output_type": "error",
     "traceback": [
      "\u001b[1;31m---------------------------------------------------------------------------\u001b[0m",
      "\u001b[1;31mTypeError\u001b[0m                                 Traceback (most recent call last)",
      "\u001b[1;32mc:\\Users\\GeorginaStanley\\OneDrive - TechTalent Academy\\Academy Training Team\\2. Resources\\Data Academy\\Use Part Time DA\\6. Python 2\\Python practice session 2.ipynb Cell 35\u001b[0m in \u001b[0;36m<cell line: 7>\u001b[1;34m()\u001b[0m\n\u001b[0;32m      <a href='vscode-notebook-cell:/c%3A/Users/GeorginaStanley/OneDrive%20-%20TechTalent%20Academy/Academy%20Training%20Team/2.%20Resources/Data%20Academy/Use%20Part%20Time%20DA/6.%20Python%202/Python%20practice%20session%202.ipynb#X44sZmlsZQ%3D%3D?line=0'>1</a>\u001b[0m \u001b[39m\"\"\"\"\u001b[39;00m\n\u001b[0;32m      <a href='vscode-notebook-cell:/c%3A/Users/GeorginaStanley/OneDrive%20-%20TechTalent%20Academy/Academy%20Training%20Team/2.%20Resources/Data%20Academy/Use%20Part%20Time%20DA/6.%20Python%202/Python%20practice%20session%202.ipynb#X44sZmlsZQ%3D%3D?line=1'>2</a>\u001b[0m \u001b[39mA set is used to store multiple items in a single variable. \u001b[39;00m\n\u001b[0;32m      <a href='vscode-notebook-cell:/c%3A/Users/GeorginaStanley/OneDrive%20-%20TechTalent%20Academy/Academy%20Training%20Team/2.%20Resources/Data%20Academy/Use%20Part%20Time%20DA/6.%20Python%202/Python%20practice%20session%202.ipynb#X44sZmlsZQ%3D%3D?line=2'>3</a>\u001b[0m \u001b[39mA set is a collection which is unordered, unindexed, items can be added or removed, items are unique.\u001b[39;00m\n\u001b[0;32m      <a href='vscode-notebook-cell:/c%3A/Users/GeorginaStanley/OneDrive%20-%20TechTalent%20Academy/Academy%20Training%20Team/2.%20Resources/Data%20Academy/Use%20Part%20Time%20DA/6.%20Python%202/Python%20practice%20session%202.ipynb#X44sZmlsZQ%3D%3D?line=3'>4</a>\u001b[0m \u001b[39m\"\"\"\u001b[39;00m\n\u001b[0;32m      <a href='vscode-notebook-cell:/c%3A/Users/GeorginaStanley/OneDrive%20-%20TechTalent%20Academy/Academy%20Training%20Team/2.%20Resources/Data%20Academy/Use%20Part%20Time%20DA/6.%20Python%202/Python%20practice%20session%202.ipynb#X44sZmlsZQ%3D%3D?line=5'>6</a>\u001b[0m cat_set \u001b[39m=\u001b[39m {\u001b[39m\"\u001b[39m\u001b[39mButtons\u001b[39m\u001b[39m\"\u001b[39m, \u001b[39m\"\u001b[39m\u001b[39mMr Socks\u001b[39m\u001b[39m\"\u001b[39m, \u001b[39m\"\u001b[39m\u001b[39mTwiglet\u001b[39m\u001b[39m\"\u001b[39m , \u001b[39m\"\u001b[39m\u001b[39mTwiglet\u001b[39m\u001b[39m\"\u001b[39m}\n\u001b[1;32m----> <a href='vscode-notebook-cell:/c%3A/Users/GeorginaStanley/OneDrive%20-%20TechTalent%20Academy/Academy%20Training%20Team/2.%20Resources/Data%20Academy/Use%20Part%20Time%20DA/6.%20Python%202/Python%20practice%20session%202.ipynb#X44sZmlsZQ%3D%3D?line=6'>7</a>\u001b[0m \u001b[39mprint\u001b[39m(cat_set[\u001b[39m1\u001b[39;49m])\n",
      "\u001b[1;31mTypeError\u001b[0m: 'set' object is not subscriptable"
     ]
    }
   ],
   "source": [
    "\"\"\"\"\n",
    "A set is used to store multiple items in a single variable. \n",
    "A set is a collection which is unordered, unindexed, items can be added or removed, items are unique.\n",
    "\"\"\"\n",
    "\n",
    "cat_set = {\"Buttons\", \"Mr Socks\", \"Twiglet\" , \"Twiglet\"}\n",
    "print(cat_set[1])"
   ]
  },
  {
   "cell_type": "markdown",
   "metadata": {},
   "source": [
    "## Dictionaries "
   ]
  },
  {
   "cell_type": "code",
   "execution_count": 46,
   "metadata": {},
   "outputs": [
    {
     "name": "stdout",
     "output_type": "stream",
     "text": [
      "Cows go moo\n",
      "Sheep go baa\n",
      "Cat go meow\n"
     ]
    }
   ],
   "source": [
    "\"\"\"\n",
    "Dictionaries are similar to lists such that they can store a collection of values, \n",
    "but you usually don't use indexes to find the items. \n",
    "\n",
    "Each value is stored with a key. When the key is searched for in the dictionary with a bracket [ ]\n",
    "the value is returned.\n",
    "\"\"\"\n",
    "\n",
    "farm_animals = {\"cow\": \"Cows go moo\",\n",
    "                \"sheep\": \"Sheep go baa\",\n",
    "                \"cat\": \"Cat go meow\" \n",
    "                }\n",
    "\n",
    "print(farm_animals[\"cow\"])\n",
    "print(farm_animals[\"sheep\"])\n",
    "print(farm_animals[\"cat\"])"
   ]
  },
  {
   "cell_type": "code",
   "execution_count": 47,
   "metadata": {},
   "outputs": [
    {
     "name": "stdout",
     "output_type": "stream",
     "text": [
      "Cows go moo\n",
      "Sheep goes baa\n"
     ]
    }
   ],
   "source": [
    "# adding to dictionary\n",
    "farm_animals = {}\n",
    "farm_animals[\"cow\"] = \"Cows go moo\"\n",
    "farm_animals[\"sheep\"] = \"Sheep goes baa\"\n",
    "\n",
    "print(farm_animals[\"cow\"])\n",
    "print(farm_animals[\"sheep\"])"
   ]
  },
  {
   "cell_type": "code",
   "execution_count": 48,
   "metadata": {},
   "outputs": [
    {
     "name": "stdout",
     "output_type": "stream",
     "text": [
      "{'cow': 'Cows go moo', 'sheep': 'Sheep goes baa', 'dog': 'Dog goes bark'}\n"
     ]
    }
   ],
   "source": [
    "farm_animals[\"dog\"] = \"Dog goes bark\"\n",
    "print(farm_animals)"
   ]
  },
  {
   "cell_type": "code",
   "execution_count": 49,
   "metadata": {},
   "outputs": [
    {
     "data": {
      "text/plain": [
       "['cow', 'sheep', 'cat']"
      ]
     },
     "execution_count": 49,
     "metadata": {},
     "output_type": "execute_result"
    }
   ],
   "source": [
    "# A list of keys and/or values can be retrieved using the .keys() and .values() methods within a dictionary\n",
    "\n",
    "farm_animals = {\"cow\" : \"Cows go moo\",\n",
    "\t\t  \"sheep\": \"Sheep goes baa\",\n",
    "\t\t  \"cat\": \"Cats go meow\"\n",
    "\t\t }\n",
    "\n",
    "list(farm_animals.keys()) \t\n"
   ]
  },
  {
   "cell_type": "code",
   "execution_count": 50,
   "metadata": {},
   "outputs": [
    {
     "data": {
      "text/plain": [
       "['Cows go moo', 'Sheep goes baa', 'Cats go meow']"
      ]
     },
     "execution_count": 50,
     "metadata": {},
     "output_type": "execute_result"
    }
   ],
   "source": [
    "list(farm_animals.values()) "
   ]
  },
  {
   "cell_type": "code",
   "execution_count": 51,
   "metadata": {},
   "outputs": [
    {
     "name": "stdout",
     "output_type": "stream",
     "text": [
      "{'pet1': {'name': 'Fig', 'year': 2004}, 'pet2': {'name': 'Ruby', 'year': 2007}, 'pet3': {'name': 'Twiglet', 'year': 2011}}\n"
     ]
    }
   ],
   "source": [
    "# nested dictionaries \n",
    "mypets = {\n",
    "  \"pet1\" : {\n",
    "    \"name\" : \"Fig\",\n",
    "    \"year\" : 2004\n",
    "  },\n",
    "  \"pet2\" : {\n",
    "    \"name\" : \"Ruby\",\n",
    "    \"year\" : 2007\n",
    "  },\n",
    "  \"pet3\" : {\n",
    "    \"name\" : \"Twiglet\",\n",
    "    \"year\" : 2011\n",
    "  }\n",
    "}\n",
    "\n",
    "print(mypets)"
   ]
  },
  {
   "cell_type": "code",
   "execution_count": 52,
   "metadata": {},
   "outputs": [
    {
     "name": "stdout",
     "output_type": "stream",
     "text": [
      "{'name': 'Twiglet', 'year': 2011}\n"
     ]
    }
   ],
   "source": [
    "print(mypets['pet3'])"
   ]
  },
  {
   "cell_type": "code",
   "execution_count": 53,
   "metadata": {},
   "outputs": [
    {
     "name": "stdout",
     "output_type": "stream",
     "text": [
      "Twiglet\n"
     ]
    }
   ],
   "source": [
    "print(mypets['pet3']['name'])"
   ]
  }
 ],
 "metadata": {
  "kernelspec": {
   "display_name": "Python 3.10.6 64-bit (windows store)",
   "language": "python",
   "name": "python3"
  },
  "language_info": {
   "codemirror_mode": {
    "name": "ipython",
    "version": 3
   },
   "file_extension": ".py",
   "mimetype": "text/x-python",
   "name": "python",
   "nbconvert_exporter": "python",
   "pygments_lexer": "ipython3",
   "version": "3.10.6"
  },
  "orig_nbformat": 4,
  "vscode": {
   "interpreter": {
    "hash": "ac386f5353f47742201f3ac80f02cf24426a78d9f41b1998c4a060eca4805fca"
   }
  }
 },
 "nbformat": 4,
 "nbformat_minor": 2
}
