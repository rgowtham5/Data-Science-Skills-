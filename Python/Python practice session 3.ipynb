{
 "cells": [
  {
   "cell_type": "markdown",
   "metadata": {},
   "source": [
    "## For loops"
   ]
  },
  {
   "cell_type": "code",
   "execution_count": 1,
   "metadata": {},
   "outputs": [
    {
     "name": "stdout",
     "output_type": "stream",
     "text": [
      "Winnie the Moo says moo!\n",
      "Dasiy says moo!\n",
      "Milkshake says moo!\n",
      "Buttercup says moo!\n"
     ]
    }
   ],
   "source": [
    "#Lists can be iterated over to retrieve each value, and apply the same code multiple times to each value in the list.\n",
    "#cow is the variable that takes the value of the item inside the sequence on each iteration.\n",
    "farm_cows = [\"Winnie the Moo\", \"Dasiy\", \"Milkshake\", \"Buttercup\"]\n",
    "for cow in farm_cows:\n",
    "    print(cow, \"says moo!\")\n"
   ]
  },
  {
   "cell_type": "code",
   "execution_count": 2,
   "metadata": {},
   "outputs": [
    {
     "name": "stdout",
     "output_type": "stream",
     "text": [
      "Dasiy says moo!\n",
      "Buttercup says moo!\n"
     ]
    }
   ],
   "source": [
    "# For loops with indexes\n",
    "farm_cows = [\"Winnie the Moo\", \"Dasiy\", \"Milkshake\", \"Buttercup\"]\n",
    "for i in range(1, 4, 2):\t # range(1, 4, going up in 2s\n",
    "    print(farm_cows[i], \"says moo!\")\n"
   ]
  },
  {
   "cell_type": "markdown",
   "metadata": {},
   "source": [
    "## Transfer and Control\n",
    "\n",
    "Sometimes, an external factor may influence the way your program runs. When this occurs, you may want your program to exit a loop completely, skip part of a loop before continuing, or ignore that external factor. "
   ]
  },
  {
   "cell_type": "code",
   "execution_count": 3,
   "metadata": {},
   "outputs": [
    {
     "name": "stdout",
     "output_type": "stream",
     "text": [
      "Winnie the Moo says moo!\n",
      "Dasiy says moo!\n",
      "Buttercup says moo!\n"
     ]
    }
   ],
   "source": [
    "\n",
    "\"\"\"\n",
    "continue statement gives you the option to skip over the part of a loop where an external \n",
    "condition is triggered, but to go on to complete the rest of the loop.\n",
    "\"\"\"\n",
    "farm_cows = [\"Winnie the Moo\", \"Dasiy\", \"Milkshake\", \"Buttercup\"]\n",
    "for cow in farm_cows:\n",
    "    if cow == \"Milkshake\":\n",
    "        continue\n",
    "    print(cow, \"says moo!\")\n"
   ]
  },
  {
   "cell_type": "code",
   "execution_count": 4,
   "metadata": {},
   "outputs": [
    {
     "name": "stdout",
     "output_type": "stream",
     "text": [
      "Winnie the Moo says moo!\n",
      "Dasiy says moo!\n",
      "Milkshake says moo!\n",
      "Buttercup says moo!\n"
     ]
    }
   ],
   "source": [
    "\n",
    "\"\"\"\n",
    "pass statement allows you to handle the condition without the loop being impacted in any way; \n",
    "all of the code will continue to be read unless a break.\n",
    "\"\"\"\n",
    "farm_cows = [\"Winnie the Moo\", \"Dasiy\", \"Milkshake\", \"Buttercup\"]\n",
    "for cow in farm_cows:\n",
    "    if cow == \"Milkshake\":\n",
    "        pass\n",
    "    print(cow, \"says moo!\")"
   ]
  },
  {
   "cell_type": "code",
   "execution_count": 5,
   "metadata": {},
   "outputs": [
    {
     "name": "stdout",
     "output_type": "stream",
     "text": [
      "Winnie the Moo says moo!\n",
      "Dasiy says moo!\n"
     ]
    }
   ],
   "source": [
    "\n",
    "\"\"\"break statement provides you with the opportunity to exit out of a loop when an external condition \n",
    "is triggered.\n",
    "\"\"\"\n",
    "\n",
    "farm_cows = [\"Winnie the Moo\", \"Dasiy\", \"Milkshake\", \"Buttercup\"]\n",
    "for cow in farm_cows:\n",
    "    if cow == \"Milkshake\":\n",
    "        break\n",
    "    print(cow, \"says moo!\")"
   ]
  },
  {
   "cell_type": "code",
   "execution_count": 6,
   "metadata": {},
   "outputs": [
    {
     "name": "stdout",
     "output_type": "stream",
     "text": [
      "i: 0 count 1\n",
      "i: 1 count 2\n",
      "i: 2 count 3\n",
      "i: 3 count 4\n",
      "i: 4 count 5\n",
      "i: 5 count 6\n",
      "i: 6 count 7\n",
      "i: 7 count 8\n",
      "i: 8 count 9\n",
      "i: 9 count 10\n"
     ]
    }
   ],
   "source": [
    "# For example\n",
    "count = 0\n",
    "for i in range(10):\n",
    "    count = count + 1\n",
    "    print(\"i:\",i,\"count\",count)\n"
   ]
  },
  {
   "cell_type": "code",
   "execution_count": 7,
   "metadata": {},
   "outputs": [
    {
     "name": "stdout",
     "output_type": "stream",
     "text": [
      "i: 5\n",
      "i: 6\n",
      "i: 7\n",
      "i: 8\n",
      "i: 9\n"
     ]
    }
   ],
   "source": [
    "# For example specifying start and end values\n",
    "for i in range(5,10):\n",
    "    print(\"i:\",i)\n"
   ]
  },
  {
   "attachments": {},
   "cell_type": "markdown",
   "metadata": {},
   "source": [
    "Student Task: For loop"
   ]
  },
  {
   "cell_type": "code",
   "execution_count": 8,
   "metadata": {},
   "outputs": [
    {
     "name": "stdout",
     "output_type": "stream",
     "text": [
      "i: 10\n",
      "i: 12\n",
      "i: 14\n",
      "i: 16\n",
      "i: 18\n"
     ]
    }
   ],
   "source": [
    "# For example specifying start, end and step values\n",
    "for i in range(10,20,2):\n",
    "    print(\"i:\",i)\n"
   ]
  },
  {
   "attachments": {},
   "cell_type": "markdown",
   "metadata": {},
   "source": [
    "## Nested Loops\n",
    "Sometimes we need to put a loop inside a loop. The \"inner loop\" will be executed one time for each iteration of the \"outer loop“.\n"
   ]
  },
  {
   "cell_type": "code",
   "execution_count": 12,
   "metadata": {},
   "outputs": [
    {
     "name": "stdout",
     "output_type": "stream",
     "text": [
      "0 * 0 = 0\n",
      "0 * 1 = 0\n",
      "0 * 2 = 0\n",
      "0 * 3 = 0\n",
      "1 * 0 = 0\n",
      "1 * 1 = 1\n",
      "1 * 2 = 2\n",
      "1 * 3 = 3\n",
      "2 * 0 = 0\n",
      "2 * 1 = 2\n",
      "2 * 2 = 4\n",
      "2 * 3 = 6\n"
     ]
    },
    {
     "data": {
      "text/plain": [
       "'\\nIn each iteration of the outer loop, inner loop execute all its iteration. For each iteration of an \\nouter loop the inner loop re-start and completes its execution before the outer loop can continue \\nto its next iteration.\\n'"
      ]
     },
     "execution_count": 12,
     "metadata": {},
     "output_type": "execute_result"
    }
   ],
   "source": [
    "# Nested loop\n",
    "for i in range(3):\n",
    "    for j in range(4):\n",
    "        print(i,\"*\",j,\"=\",i*j)\n",
    "\n",
    "\"\"\"\n",
    "In each iteration of the outer loop, inner loop execute all its iteration. For each iteration of an \n",
    "outer loop the inner loop re-start and completes its execution before the outer loop can continue \n",
    "to its next iteration.\n",
    "\"\"\"\n"
   ]
  },
  {
   "cell_type": "code",
   "execution_count": null,
   "metadata": {},
   "outputs": [],
   "source": [
    "# Nest loop example\n",
    "adj = [\"red\", \"big\", \"tasty\"]\n",
    "fruits = [\"apple\", \"banana\", \"cherry\"]\n",
    "\n",
    "for x in adj:\n",
    "  for y in fruits:\n",
    "    print(x, y)"
   ]
  },
  {
   "cell_type": "markdown",
   "metadata": {},
   "source": [
    "## While loops\n",
    "\n",
    "While loops will loop over code as long as a condition is true. The condition is checked after the loop code has completed. \n"
   ]
  },
  {
   "cell_type": "code",
   "execution_count": null,
   "metadata": {},
   "outputs": [],
   "source": [
    "i = 0\n",
    "\n",
    "while i <= 12:\n",
    "    print(\"The value of i is:\", i)\n",
    "    i += 2 # Short hand for i = i + 2\n"
   ]
  },
  {
   "cell_type": "code",
   "execution_count": null,
   "metadata": {},
   "outputs": [],
   "source": [
    "# While example\n",
    "year = 0\n",
    "value = 2000\n",
    "\n",
    "while value > 1000:\n",
    "    print(\"year\",year,\"value\",value)\n",
    "    year = year + 1\n",
    "    value = value * 0.9\n"
   ]
  },
  {
   "cell_type": "code",
   "execution_count": null,
   "metadata": {},
   "outputs": [],
   "source": [
    "# Breaks can also be used in while loops\n",
    "i = 1\n",
    "while i < 15:\n",
    "  print(i)\n",
    "  if i == 7:\n",
    "    break\n",
    "  i += 1"
   ]
  },
  {
   "cell_type": "code",
   "execution_count": null,
   "metadata": {},
   "outputs": [],
   "source": [
    "# Continue - when i is 3, jump directly to the next iteration.\n",
    "i = 0\n",
    "while i < 6:\n",
    "  i += 1\n",
    "  if i == 3:\n",
    "    continue\n",
    "\n",
    "  print(i)"
   ]
  },
  {
   "attachments": {},
   "cell_type": "markdown",
   "metadata": {},
   "source": [
    "Student task: While loop"
   ]
  },
  {
   "cell_type": "markdown",
   "metadata": {},
   "source": [
    "## For loops vs while loops"
   ]
  },
  {
   "cell_type": "code",
   "execution_count": null,
   "metadata": {},
   "outputs": [],
   "source": [
    "# For loops and while loops can be coded to do the same thing\n",
    "\n",
    "#For loops should be used when it is known ahead of time the number of iterations\n",
    "\n",
    "\n",
    "for i in range(3):\n",
    "    print(i)\n"
   ]
  },
  {
   "cell_type": "code",
   "execution_count": null,
   "metadata": {},
   "outputs": [],
   "source": [
    "# While loops should be used when it is not known ahead of time the number of iterations\n",
    "i = 0\n",
    "while(i < 3):\n",
    "    print(i)\n",
    "    i = i + 1\n"
   ]
  },
  {
   "cell_type": "markdown",
   "metadata": {},
   "source": [
    "## Funcions and procedures "
   ]
  },
  {
   "cell_type": "code",
   "execution_count": 13,
   "metadata": {},
   "outputs": [
    {
     "name": "stdout",
     "output_type": "stream",
     "text": [
      "Hello G S\n"
     ]
    }
   ],
   "source": [
    "#Procedure\n",
    "def hello():\n",
    "    firstname = input(\"Enter first name: \")\n",
    "    lastname = input(\"Enter last name: \")\n",
    "    print(\"Hello\", firstname, lastname)\n",
    "\n",
    "hello() #calling the procedure "
   ]
  },
  {
   "cell_type": "code",
   "execution_count": 14,
   "metadata": {},
   "outputs": [
    {
     "data": {
      "text/plain": [
       "64"
      ]
     },
     "execution_count": 14,
     "metadata": {},
     "output_type": "execute_result"
    }
   ],
   "source": [
    "# Function and return statement\n",
    "def cube(num):\n",
    "    return num*num*num \n",
    "    #return keyword breaks out of the function.Anything after the return will not be executed \n",
    "\n",
    "cube(4)"
   ]
  },
  {
   "cell_type": "code",
   "execution_count": 15,
   "metadata": {},
   "outputs": [
    {
     "name": "stdout",
     "output_type": "stream",
     "text": [
      "30\n"
     ]
    }
   ],
   "source": [
    "# Function\n",
    "def number(number1, number2):\n",
    "    answer = number1 + number2\n",
    "    return answer\n",
    "\n",
    "added_number = number (5,5) # puts numbers into the 'placeholders'\n",
    "\n",
    "print(added_number + 20) # add 20 onto the answer calculated in the function\n",
    "\n"
   ]
  },
  {
   "cell_type": "code",
   "execution_count": 18,
   "metadata": {},
   "outputs": [
    {
     "name": "stdout",
     "output_type": "stream",
     "text": [
      "8\n"
     ]
    }
   ],
   "source": [
    "\"\"\" Note: If you do not return the values, then the values of any variables that were \n",
    "created or altered in that subprogram cannot be used elsewhere in your program \"\"\"\n",
    "\n",
    "def addition(number1, number2):\n",
    "    answer = number1 + number2\n",
    "    return answer \n",
    "\n",
    "def subtraction(number1, number2):\n",
    "    answer = number1 - number2\n",
    "    return answer \n",
    "\n",
    "def multiply(number1, number2):\n",
    "    answer = number1 * number2\n",
    "    return answer\n",
    "\n",
    "print(multiply(addition(2,2), subtraction(10,8))) #Follow the rules of BODMAS\n",
    "\n"
   ]
  },
  {
   "attachments": {},
   "cell_type": "markdown",
   "metadata": {},
   "source": [
    "Student Task: Sub programe"
   ]
  },
  {
   "cell_type": "code",
   "execution_count": 19,
   "metadata": {},
   "outputs": [
    {
     "name": "stdout",
     "output_type": "stream",
     "text": [
      "Hello Chester\n",
      "Hello Sam\n"
     ]
    }
   ],
   "source": [
    "# Passing in parameters \n",
    "def sayhi(name):\n",
    "\tprint(\"Hello \" + name)\n",
    "\n",
    "sayhi(\"Chester\")\n",
    "sayhi(\"Sam\")"
   ]
  },
  {
   "cell_type": "code",
   "execution_count": null,
   "metadata": {},
   "outputs": [],
   "source": [
    "# Passing in multiple parameters \n",
    "def sayhi(name, age):\n",
    "\tprint(\"Hello \" + name + \", you are \" + age)\n",
    "\n",
    "sayhi(\"Chester\", \"24\")\n"
   ]
  },
  {
   "cell_type": "code",
   "execution_count": null,
   "metadata": {},
   "outputs": [],
   "source": [
    "def procedure_2(inp_name,inp_age):  # think as placeholders\n",
    "    print(\"Hello\", inp_name + \"! You will be \", str(inp_age + 1), \"For your next birthday!\")\n",
    "\n",
    "name = input(\"What is your name? \") # goes into placeholder 1\n",
    "age  = int(input(\"What is your age? \")) # goes into placeholder 2\n",
    "\n",
    "procedure_2(name, age)"
   ]
  }
 ],
 "metadata": {
  "kernelspec": {
   "display_name": "Python 3",
   "language": "python",
   "name": "python3"
  },
  "language_info": {
   "codemirror_mode": {
    "name": "ipython",
    "version": 3
   },
   "file_extension": ".py",
   "mimetype": "text/x-python",
   "name": "python",
   "nbconvert_exporter": "python",
   "pygments_lexer": "ipython3",
   "version": "3.10.9"
  },
  "orig_nbformat": 4,
  "vscode": {
   "interpreter": {
    "hash": "ac386f5353f47742201f3ac80f02cf24426a78d9f41b1998c4a060eca4805fca"
   }
  }
 },
 "nbformat": 4,
 "nbformat_minor": 2
}
